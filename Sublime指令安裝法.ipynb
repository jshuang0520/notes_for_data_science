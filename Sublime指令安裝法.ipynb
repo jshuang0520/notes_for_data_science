{
 "cells": [
  {
   "cell_type": "code",
   "execution_count": 1,
   "metadata": {},
   "outputs": [
    {
     "name": "stdout",
     "output_type": "stream",
     "text": [
      "C:\\Users\\JS\\.jupyter\n",
      "C:\\Users\\JS\\.jupyter\\custom\\custom.js\n",
      "You don't have a custom.js file\n"
     ]
    }
   ],
   "source": [
    "# Print the location of Jupyter's config directory\n",
    "from jupyter_core.paths import jupyter_config_dir\n",
    "jupyter_dir = jupyter_config_dir()\n",
    "print(jupyter_dir)\n",
    "\n",
    "# Print the location of custom.js\n",
    "import os.path\n",
    "custom_js_path = os.path.join(jupyter_dir, 'custom', 'custom.js')\n",
    "print(custom_js_path)\n",
    "\n",
    "# Print the contents of custom.js, if it exists.\n",
    "if os.path.isfile(custom_js_path):\n",
    "    with open(custom_js_path) as f:\n",
    "        print(f.read())\n",
    "else:\n",
    "    print(\"You don't have a custom.js file\")"
   ]
  },
  {
   "cell_type": "code",
   "execution_count": null,
   "metadata": {
    "collapsed": true
   },
   "outputs": [],
   "source": [
    "http://www.perfectlyrandom.org/2016/03/19/sublime-text-style-multiple-cursors-in-jupyter-notebook/\n",
    "    \n",
    "鴻找的網址\n",
    "http://blog.rtwilson.com/how-to-get-sublime-text-style-editing-in-the-ipythonjupyter-notebook/\n",
    "\n",
    "簡單來說就是 :\n",
    "    1. 找到Anaconda3裡面的custom.js\n",
    "    2. 用記事本打開，然後在最下面貼上這一段require什麼的\n",
    "    3. 重啟prompt跟kernel\n",
    "    \n",
    "    So, how do you do this? It’s really simple.\n",
    "\n",
    "1. Find your Jupyter configuration folder by running jupyter --config-dir\n",
    "2. Open the custom.js file in the custom sub-folder in your favourite editor\n",
    "3. Add the following lines to the bottom of the file\n",
    "\n",
    "require([\"codemirror/keymap/sublime\", \"notebook/js/cell\", \"base/js/namespace\"],\n",
    "    function(sublime_keymap, cell, IPython) {\n",
    "        // setTimeout(function(){ // uncomment line to fake race-condition\n",
    "        cell.Cell.options_default.cm_config.keyMap = 'sublime';\n",
    "        var cells = IPython.notebook.get_cells();\n",
    "        for(var cl=0; cl< cells.length ; cl++){\n",
    "            cells[cl].code_mirror.setOption('keyMap', 'sublime');\n",
    "        }\n",
    " \n",
    "        // }, 1000)// uncomment  line to fake race condition \n",
    "    } \n",
    ");"
   ]
  }
 ],
 "metadata": {
  "kernelspec": {
   "display_name": "Python 3",
   "language": "python",
   "name": "python3"
  },
  "language_info": {
   "codemirror_mode": {
    "name": "ipython",
    "version": 3
   },
   "file_extension": ".py",
   "mimetype": "text/x-python",
   "name": "python",
   "nbconvert_exporter": "python",
   "pygments_lexer": "ipython3",
   "version": "3.6.1"
  }
 },
 "nbformat": 4,
 "nbformat_minor": 2
}
